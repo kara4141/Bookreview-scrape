{
 "cells": [
  {
   "cell_type": "code",
   "execution_count": null,
   "metadata": {
    "collapsed": true
   },
   "outputs": [],
   "source": [
    "/*using data miner to and wrote a xpath code to grab amazon.co.jp product reviews\n",
    "row://*[contains(@class,'a-section review')]\n",
    "title:.//*[contains(@id,'customer_review')]/div[2]/a[2]\n",
    "text:.//*[contains(@id,'customer_review')]/div[4]/span\n",
    "author:.//*[contains(@id,'customer_review')]//a/div[2]\n",
    "useful or not:.//*[contains(@id,'customer_review')]//div[1]/span\n",
    "rating stars:.//*[contains(@id,'customer_review')]//div[2]/a[1]\n",
    "buy via amazon:.//*[contains(@id,'customer_review')]/div[3]/span/a/span\n",
    "    \n",
    "still need to find date and next page function is not stable\n",
    "use it by search SC Get Amazon.co.jp reviews\n",
    "*/"
   ]
  }
 ],
 "metadata": {
  "anaconda-cloud": {},
  "kernelspec": {
   "display_name": "Python [default]",
   "language": "python",
   "name": "python3"
  },
  "language_info": {
   "codemirror_mode": {
    "name": "ipython",
    "version": 3
   },
   "file_extension": ".py",
   "mimetype": "text/x-python",
   "name": "python",
   "nbconvert_exporter": "python",
   "pygments_lexer": "ipython3",
   "version": "3.5.2"
  }
 },
 "nbformat": 4,
 "nbformat_minor": 1
}
